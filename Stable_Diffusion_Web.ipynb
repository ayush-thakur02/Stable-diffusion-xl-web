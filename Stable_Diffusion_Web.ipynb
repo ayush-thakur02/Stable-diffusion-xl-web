{
  "nbformat": 4,
  "nbformat_minor": 0,
  "metadata": {
    "colab": {
      "provenance": [],
      "gpuType": "T4"
    },
    "kernelspec": {
      "name": "python3",
      "display_name": "Python 3"
    },
    "language_info": {
      "name": "python"
    },
    "accelerator": "GPU"
  },
  "cells": [
    {
      "cell_type": "markdown",
      "source": [
        "# Stable Diffusion XL Web || Github - @ayush-thakur02\n",
        "\n",
        "<div align=\"justify\" markdown=1>\n",
        "\n",
        "[![Static Badge](https://img.shields.io/badge/Python_v3-gray)](https://github.com/ayush-thakur02/stable-diffusion-xl)\n",
        "[![Stable Diffuison](https://img.shields.io/badge/File_Version-v1.0-blue)](https://github.com/ayush-thakur02/stable-diffusion-xl)\n",
        "[![Stable Diffuison](https://img.shields.io/badge/Stable_Diffusion-XL_Base_1.0-blue)](https://github.com/ayush-thakur02/stable-diffusion-xl)\n",
        "\n",
        "\n",
        "Welcome to the Stable Diffusion XL Web! This is a Gradio demo with a user-friendly web interface that supports [Stable Diffusion XL 1.0](https://github.com/Stability-AI/generative-models). In this demo, you can explore and interact with both the base and the refiner models.\n",
        "\n",
        "This project was forked from the original [StableDiffusion v2.1 Demo WebUI](https://huggingface.co/spaces/gradio-client-demos/stable-diffusion). You can always refer to the Git commits to see the changes and enhancements we've made.\n",
        "\n",
        "**Update:** We're excited to announce that [SD XL 1.0](https://huggingface.co/stabilityai/stable-diffusion-xl-base-1.0) has been released, and our Web UI demo now fully supports it! The best part is, you no longer need a separate application to obtain the model weights. Simply launch the Colab notebook to get started. And the best news of all, you can run this demo on Colab for free, even on T4 GPUs!\n",
        "\n",
        "<a target=\"_blank\" href=\"https://colab.research.google.com/drive/1ysuxlib8Dg4LQ9YbQ7GjvSFn97nA0rWv?usp=sharing\"><img src=\"https://colab.research.google.com/assets/colab-badge.svg\" alt=\"Open In Colab\"/></a>\n",
        "\n",
        "---\n",
        "\n",
        "### Make Sure to follow me:\n",
        "\n",
        "[![Github](https://img.shields.io/badge/GitHub-100000?style=for-the-badge&logo=github&logoColor=white)](https://github.com/ayush-thakur02)\n",
        "[![BioLink](https://img.shields.io/badge/bio.link-000000%7D?style=for-the-badge&logo=biolink&logoColor=white)](https://bio.link/ayush_thakur02)\n",
        "\n",
        "</div>"
      ],
      "metadata": {
        "id": "yDrdpzenZ9bj"
      }
    },
    {
      "cell_type": "code",
      "source": [
        "!git clone https://github.com/ayush-thakur02/Stable-diffusion-xl-web.git\n",
        "!pip install -r requirements.txt"
      ],
      "metadata": {
        "id": "tuqV8wJQ8aQb"
      },
      "execution_count": null,
      "outputs": []
    },
    {
      "cell_type": "code",
      "source": [
        "!PYTORCH_CUDA_ALLOC_CONF=max_split_size_mb:128 DEFAULT_NUM_IMAGES=4 ENABLE_REFINER=false python app.py"
      ],
      "metadata": {
        "id": "XZEPqfP-8j7h"
      },
      "execution_count": null,
      "outputs": []
    },
    {
      "cell_type": "markdown",
      "source": [
        "<div align=\"justify\" markdown=1>\n",
        "\n",
        "## Support Us\n",
        "\n",
        "If you find this demo helpful and insightful, please consider giving [this repository](https://github.com/ayush-thakur02/stable-diffusion-xl-web) a star ⭐. Your support is greatly appreciated, and it encourages us to continue improving and expanding this project.\n",
        "\n",
        "</div>"
      ],
      "metadata": {
        "id": "LdJEZtZNaPd6"
      }
    }
  ]
}